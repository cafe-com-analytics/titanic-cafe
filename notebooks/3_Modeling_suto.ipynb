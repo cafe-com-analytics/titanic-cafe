{
 "cells": [
  {
   "cell_type": "markdown",
   "metadata": {},
   "source": [
    "# Modeling"
   ]
  },
  {
   "cell_type": "code",
   "execution_count": 2,
   "metadata": {
    "ExecuteTime": {
     "end_time": "2021-01-21T02:37:20.852666Z",
     "start_time": "2021-01-21T02:37:17.952256Z"
    }
   },
   "outputs": [],
   "source": [
    "import os\n",
    "from datetime import datetime\n",
    "from hashlib import sha256\n",
    "\n",
    "import pandas as pd\n",
    "import numpy as np\n",
    "\n",
    "# -------------------------\n",
    "# model libs\n",
    "from pycaret.classification import *\n",
    "from xgboost import XGBClassifier\n",
    "from lightgbm import LGBMClassifier\n",
    "from catboost import CatBoostClassifier\n",
    "from sklearn.svm import LinearSVC, SVC\n",
    "from sklearn.ensemble import RandomForestClassifier\n",
    "\n",
    "# -------------------------\n",
    "# model validation and hyperparameter tunning libs\n",
    "from sklearn.model_selection import (cross_val_score, RepeatedStratifiedKFold,\n",
    "                                     RandomizedSearchCV, GridSearchCV, train_test_split)\n",
    "\n",
    "from sklearn.metrics import (precision_recall_curve, average_precision_score, classification_report, roc_curve)\n",
    "\n",
    "from yellowbrick import ROCAUC\n",
    "\n",
    "# -------------------------\n",
    "# graph libs\n",
    "import matplotlib.pyplot as plt\n",
    "import seaborn as sns\n",
    "\n",
    "import pickle\n",
    "import joblib\n",
    "\n",
    "os.chdir(\"../src/\")\n",
    "from utils.data_describe import DataDescribe as dd\n",
    "from utils.classification_model_evaluation import ClassificationModelEvaluation as cme\n",
    "\n",
    "raw_path = \"../data/raw/\"\n",
    "external_path = \"../data/external/\"\n",
    "interim_path = \"../data/interim/\"\n",
    "path_processed = \"../data/processed/\"\n",
    "reports_path = \"../reports/\"\n",
    "\n",
    "path_model = \"../models/\"\n",
    "\n",
    "pd.set_option('display.max_columns', None)\n",
    "pd.set_option('display.max_rows', None)\n",
    "\n",
    "# load the autoreload extension\n",
    "%load_ext autoreload\n",
    "\n",
    "# Set extension to reload modules every time before executing code\n",
    "%autoreload 2"
   ]
  },
  {
   "cell_type": "markdown",
   "metadata": {},
   "source": [
    "## Carregando dataframes da preparação de dados"
   ]
  },
  {
   "cell_type": "code",
   "execution_count": 3,
   "metadata": {
    "ExecuteTime": {
     "end_time": "2021-01-21T02:37:21.070172Z",
     "start_time": "2021-01-21T02:37:20.854320Z"
    }
   },
   "outputs": [
    {
     "name": "stdout",
     "output_type": "stream",
     "text": [
      "O dataframe X_train possui:\n",
      "- 623 registros; e\n",
      "- 11 atributos, SEM a variável resposta (\"Survived\").\n",
      "\n",
      "O dataframe X_validation possui:\n",
      "- 268 registros; e\n",
      "- 11 atributos, SEM a variável resposta (\"Survived\").\n",
      "\n"
     ]
    }
   ],
   "source": [
    "X_train_encoded = pd.read_parquet(interim_path+'X_train_encoded_v1.pqt')\n",
    "X_validation_encoded = pd.read_parquet(interim_path+'X_validation_encoded_v1.pqt')\n",
    "\n",
    "y_train = pd.read_parquet(interim_path+'y_train.pqt')\n",
    "y_validation = pd.read_parquet(interim_path+'y_validation.pqt')\n",
    "\n",
    "print(f\"\"\"O dataframe X_train possui:\n",
    "- {X_train_encoded.shape[0]} registros; e\n",
    "- {X_train_encoded.shape[1]} atributos, SEM a variável resposta (\"Survived\").\n",
    "\"\"\")\n",
    "\n",
    "print(f\"\"\"O dataframe X_validation possui:\n",
    "- {X_validation_encoded.shape[0]} registros; e\n",
    "- {X_validation_encoded.shape[1]} atributos, SEM a variável resposta (\"Survived\").\n",
    "\"\"\")"
   ]
  },
  {
   "cell_type": "markdown",
   "metadata": {},
   "source": [
    "## Fazendo o split treinamento/validação no df_train"
   ]
  },
  {
   "cell_type": "code",
   "execution_count": 4,
   "metadata": {
    "ExecuteTime": {
     "end_time": "2021-01-21T02:37:21.937073Z",
     "start_time": "2021-01-21T02:37:21.834601Z"
    }
   },
   "outputs": [],
   "source": [
    "n_splits = 5\n",
    "n_repeats = 3\n",
    "random_state = 42\n",
    "scoring = \"accuracy\"\n",
    "\n",
    "cv = RepeatedStratifiedKFold(n_splits=n_splits, n_repeats=n_repeats, random_state=random_state)"
   ]
  },
  {
   "cell_type": "markdown",
   "metadata": {},
   "source": [
    "## Modelo baseline (\"Random Forest\")"
   ]
  },
  {
   "cell_type": "code",
   "execution_count": 32,
   "metadata": {
    "ExecuteTime": {
     "end_time": "2021-01-17T04:14:14.905924Z",
     "start_time": "2021-01-17T04:14:14.343765Z"
    }
   },
   "outputs": [
    {
     "name": "stdout",
     "output_type": "stream",
     "text": [
      "accuracy: média: 0.805  desvio padrão: 0.024\n"
     ]
    }
   ],
   "source": [
    "model_rf = RandomForestClassifier(random_state=42)\n",
    "\n",
    "n_scores = cross_val_score(model_rf, X_train_encoded, y_train, scoring=scoring, cv=cv, n_jobs=-1, error_score='raise')\n",
    "\n",
    "print(f\"{scoring}: média: {n_scores.mean():.3f}  desvio padrão: {n_scores.std():.3f}\")"
   ]
  },
  {
   "cell_type": "markdown",
   "metadata": {},
   "source": [
    "## Usando comparação de modelos usando o pycaret"
   ]
  },
  {
   "cell_type": "code",
   "execution_count": 8,
   "metadata": {
    "ExecuteTime": {
     "end_time": "2021-01-21T02:41:08.078341Z",
     "start_time": "2021-01-21T02:40:48.287610Z"
    }
   },
   "outputs": [
    {
     "data": {
      "text/html": [
       "<style  type=\"text/css\" >\n",
       "    #T_1d582ef8_5b92_11eb_871d_5ccd5b98ebf2 th {\n",
       "          text-align: left;\n",
       "    }#T_1d582ef8_5b92_11eb_871d_5ccd5b98ebf2row0_col0,#T_1d582ef8_5b92_11eb_871d_5ccd5b98ebf2row0_col2,#T_1d582ef8_5b92_11eb_871d_5ccd5b98ebf2row0_col3,#T_1d582ef8_5b92_11eb_871d_5ccd5b98ebf2row1_col0,#T_1d582ef8_5b92_11eb_871d_5ccd5b98ebf2row1_col1,#T_1d582ef8_5b92_11eb_871d_5ccd5b98ebf2row1_col2,#T_1d582ef8_5b92_11eb_871d_5ccd5b98ebf2row1_col3,#T_1d582ef8_5b92_11eb_871d_5ccd5b98ebf2row1_col4,#T_1d582ef8_5b92_11eb_871d_5ccd5b98ebf2row1_col5,#T_1d582ef8_5b92_11eb_871d_5ccd5b98ebf2row1_col6,#T_1d582ef8_5b92_11eb_871d_5ccd5b98ebf2row1_col7,#T_1d582ef8_5b92_11eb_871d_5ccd5b98ebf2row2_col0,#T_1d582ef8_5b92_11eb_871d_5ccd5b98ebf2row2_col1,#T_1d582ef8_5b92_11eb_871d_5ccd5b98ebf2row2_col2,#T_1d582ef8_5b92_11eb_871d_5ccd5b98ebf2row2_col3,#T_1d582ef8_5b92_11eb_871d_5ccd5b98ebf2row2_col4,#T_1d582ef8_5b92_11eb_871d_5ccd5b98ebf2row2_col5,#T_1d582ef8_5b92_11eb_871d_5ccd5b98ebf2row2_col6,#T_1d582ef8_5b92_11eb_871d_5ccd5b98ebf2row2_col7,#T_1d582ef8_5b92_11eb_871d_5ccd5b98ebf2row3_col0,#T_1d582ef8_5b92_11eb_871d_5ccd5b98ebf2row3_col1,#T_1d582ef8_5b92_11eb_871d_5ccd5b98ebf2row3_col2,#T_1d582ef8_5b92_11eb_871d_5ccd5b98ebf2row3_col3,#T_1d582ef8_5b92_11eb_871d_5ccd5b98ebf2row3_col4,#T_1d582ef8_5b92_11eb_871d_5ccd5b98ebf2row3_col5,#T_1d582ef8_5b92_11eb_871d_5ccd5b98ebf2row3_col6,#T_1d582ef8_5b92_11eb_871d_5ccd5b98ebf2row3_col7,#T_1d582ef8_5b92_11eb_871d_5ccd5b98ebf2row4_col0,#T_1d582ef8_5b92_11eb_871d_5ccd5b98ebf2row4_col1,#T_1d582ef8_5b92_11eb_871d_5ccd5b98ebf2row4_col2,#T_1d582ef8_5b92_11eb_871d_5ccd5b98ebf2row4_col3,#T_1d582ef8_5b92_11eb_871d_5ccd5b98ebf2row4_col4,#T_1d582ef8_5b92_11eb_871d_5ccd5b98ebf2row4_col5,#T_1d582ef8_5b92_11eb_871d_5ccd5b98ebf2row4_col6,#T_1d582ef8_5b92_11eb_871d_5ccd5b98ebf2row4_col7,#T_1d582ef8_5b92_11eb_871d_5ccd5b98ebf2row5_col0,#T_1d582ef8_5b92_11eb_871d_5ccd5b98ebf2row5_col1,#T_1d582ef8_5b92_11eb_871d_5ccd5b98ebf2row5_col3,#T_1d582ef8_5b92_11eb_871d_5ccd5b98ebf2row5_col4,#T_1d582ef8_5b92_11eb_871d_5ccd5b98ebf2row5_col5,#T_1d582ef8_5b92_11eb_871d_5ccd5b98ebf2row5_col6,#T_1d582ef8_5b92_11eb_871d_5ccd5b98ebf2row5_col7,#T_1d582ef8_5b92_11eb_871d_5ccd5b98ebf2row6_col0,#T_1d582ef8_5b92_11eb_871d_5ccd5b98ebf2row6_col1,#T_1d582ef8_5b92_11eb_871d_5ccd5b98ebf2row6_col2,#T_1d582ef8_5b92_11eb_871d_5ccd5b98ebf2row6_col3,#T_1d582ef8_5b92_11eb_871d_5ccd5b98ebf2row6_col4,#T_1d582ef8_5b92_11eb_871d_5ccd5b98ebf2row6_col5,#T_1d582ef8_5b92_11eb_871d_5ccd5b98ebf2row6_col6,#T_1d582ef8_5b92_11eb_871d_5ccd5b98ebf2row6_col7,#T_1d582ef8_5b92_11eb_871d_5ccd5b98ebf2row7_col0,#T_1d582ef8_5b92_11eb_871d_5ccd5b98ebf2row7_col1,#T_1d582ef8_5b92_11eb_871d_5ccd5b98ebf2row7_col2,#T_1d582ef8_5b92_11eb_871d_5ccd5b98ebf2row7_col3,#T_1d582ef8_5b92_11eb_871d_5ccd5b98ebf2row7_col4,#T_1d582ef8_5b92_11eb_871d_5ccd5b98ebf2row7_col5,#T_1d582ef8_5b92_11eb_871d_5ccd5b98ebf2row7_col6,#T_1d582ef8_5b92_11eb_871d_5ccd5b98ebf2row7_col7,#T_1d582ef8_5b92_11eb_871d_5ccd5b98ebf2row8_col0,#T_1d582ef8_5b92_11eb_871d_5ccd5b98ebf2row8_col1,#T_1d582ef8_5b92_11eb_871d_5ccd5b98ebf2row8_col2,#T_1d582ef8_5b92_11eb_871d_5ccd5b98ebf2row8_col3,#T_1d582ef8_5b92_11eb_871d_5ccd5b98ebf2row8_col4,#T_1d582ef8_5b92_11eb_871d_5ccd5b98ebf2row8_col5,#T_1d582ef8_5b92_11eb_871d_5ccd5b98ebf2row8_col6,#T_1d582ef8_5b92_11eb_871d_5ccd5b98ebf2row8_col7,#T_1d582ef8_5b92_11eb_871d_5ccd5b98ebf2row9_col0,#T_1d582ef8_5b92_11eb_871d_5ccd5b98ebf2row9_col1,#T_1d582ef8_5b92_11eb_871d_5ccd5b98ebf2row9_col2,#T_1d582ef8_5b92_11eb_871d_5ccd5b98ebf2row9_col3,#T_1d582ef8_5b92_11eb_871d_5ccd5b98ebf2row9_col4,#T_1d582ef8_5b92_11eb_871d_5ccd5b98ebf2row9_col5,#T_1d582ef8_5b92_11eb_871d_5ccd5b98ebf2row9_col6,#T_1d582ef8_5b92_11eb_871d_5ccd5b98ebf2row9_col7,#T_1d582ef8_5b92_11eb_871d_5ccd5b98ebf2row10_col0,#T_1d582ef8_5b92_11eb_871d_5ccd5b98ebf2row10_col1,#T_1d582ef8_5b92_11eb_871d_5ccd5b98ebf2row10_col2,#T_1d582ef8_5b92_11eb_871d_5ccd5b98ebf2row10_col3,#T_1d582ef8_5b92_11eb_871d_5ccd5b98ebf2row10_col4,#T_1d582ef8_5b92_11eb_871d_5ccd5b98ebf2row10_col5,#T_1d582ef8_5b92_11eb_871d_5ccd5b98ebf2row10_col6,#T_1d582ef8_5b92_11eb_871d_5ccd5b98ebf2row10_col7,#T_1d582ef8_5b92_11eb_871d_5ccd5b98ebf2row11_col0,#T_1d582ef8_5b92_11eb_871d_5ccd5b98ebf2row11_col1,#T_1d582ef8_5b92_11eb_871d_5ccd5b98ebf2row11_col2,#T_1d582ef8_5b92_11eb_871d_5ccd5b98ebf2row11_col3,#T_1d582ef8_5b92_11eb_871d_5ccd5b98ebf2row11_col4,#T_1d582ef8_5b92_11eb_871d_5ccd5b98ebf2row11_col5,#T_1d582ef8_5b92_11eb_871d_5ccd5b98ebf2row11_col6,#T_1d582ef8_5b92_11eb_871d_5ccd5b98ebf2row11_col7,#T_1d582ef8_5b92_11eb_871d_5ccd5b98ebf2row12_col0,#T_1d582ef8_5b92_11eb_871d_5ccd5b98ebf2row12_col1,#T_1d582ef8_5b92_11eb_871d_5ccd5b98ebf2row12_col2,#T_1d582ef8_5b92_11eb_871d_5ccd5b98ebf2row12_col3,#T_1d582ef8_5b92_11eb_871d_5ccd5b98ebf2row12_col4,#T_1d582ef8_5b92_11eb_871d_5ccd5b98ebf2row12_col5,#T_1d582ef8_5b92_11eb_871d_5ccd5b98ebf2row12_col6,#T_1d582ef8_5b92_11eb_871d_5ccd5b98ebf2row12_col7,#T_1d582ef8_5b92_11eb_871d_5ccd5b98ebf2row13_col0,#T_1d582ef8_5b92_11eb_871d_5ccd5b98ebf2row13_col1,#T_1d582ef8_5b92_11eb_871d_5ccd5b98ebf2row13_col2,#T_1d582ef8_5b92_11eb_871d_5ccd5b98ebf2row13_col3,#T_1d582ef8_5b92_11eb_871d_5ccd5b98ebf2row13_col4,#T_1d582ef8_5b92_11eb_871d_5ccd5b98ebf2row13_col5,#T_1d582ef8_5b92_11eb_871d_5ccd5b98ebf2row13_col6,#T_1d582ef8_5b92_11eb_871d_5ccd5b98ebf2row13_col7,#T_1d582ef8_5b92_11eb_871d_5ccd5b98ebf2row14_col0,#T_1d582ef8_5b92_11eb_871d_5ccd5b98ebf2row14_col1,#T_1d582ef8_5b92_11eb_871d_5ccd5b98ebf2row14_col2,#T_1d582ef8_5b92_11eb_871d_5ccd5b98ebf2row14_col4,#T_1d582ef8_5b92_11eb_871d_5ccd5b98ebf2row14_col5,#T_1d582ef8_5b92_11eb_871d_5ccd5b98ebf2row14_col6,#T_1d582ef8_5b92_11eb_871d_5ccd5b98ebf2row14_col7{\n",
       "            text-align:  left;\n",
       "            text-align:  left;\n",
       "        }#T_1d582ef8_5b92_11eb_871d_5ccd5b98ebf2row0_col1,#T_1d582ef8_5b92_11eb_871d_5ccd5b98ebf2row0_col4,#T_1d582ef8_5b92_11eb_871d_5ccd5b98ebf2row0_col5,#T_1d582ef8_5b92_11eb_871d_5ccd5b98ebf2row0_col6,#T_1d582ef8_5b92_11eb_871d_5ccd5b98ebf2row0_col7,#T_1d582ef8_5b92_11eb_871d_5ccd5b98ebf2row5_col2,#T_1d582ef8_5b92_11eb_871d_5ccd5b98ebf2row14_col3{\n",
       "            text-align:  left;\n",
       "            text-align:  left;\n",
       "            background-color:  yellow;\n",
       "        }#T_1d582ef8_5b92_11eb_871d_5ccd5b98ebf2row0_col8,#T_1d582ef8_5b92_11eb_871d_5ccd5b98ebf2row1_col8,#T_1d582ef8_5b92_11eb_871d_5ccd5b98ebf2row2_col8,#T_1d582ef8_5b92_11eb_871d_5ccd5b98ebf2row3_col8,#T_1d582ef8_5b92_11eb_871d_5ccd5b98ebf2row4_col8,#T_1d582ef8_5b92_11eb_871d_5ccd5b98ebf2row5_col8,#T_1d582ef8_5b92_11eb_871d_5ccd5b98ebf2row6_col8,#T_1d582ef8_5b92_11eb_871d_5ccd5b98ebf2row7_col8,#T_1d582ef8_5b92_11eb_871d_5ccd5b98ebf2row8_col8,#T_1d582ef8_5b92_11eb_871d_5ccd5b98ebf2row9_col8,#T_1d582ef8_5b92_11eb_871d_5ccd5b98ebf2row10_col8,#T_1d582ef8_5b92_11eb_871d_5ccd5b98ebf2row11_col8,#T_1d582ef8_5b92_11eb_871d_5ccd5b98ebf2row12_col8,#T_1d582ef8_5b92_11eb_871d_5ccd5b98ebf2row13_col8{\n",
       "            text-align:  left;\n",
       "            text-align:  left;\n",
       "            background-color:  lightgrey;\n",
       "        }#T_1d582ef8_5b92_11eb_871d_5ccd5b98ebf2row14_col8{\n",
       "            text-align:  left;\n",
       "            text-align:  left;\n",
       "            background-color:  yellow;\n",
       "            background-color:  lightgrey;\n",
       "        }</style><table id=\"T_1d582ef8_5b92_11eb_871d_5ccd5b98ebf2\" ><thead>    <tr>        <th class=\"blank level0\" ></th>        <th class=\"col_heading level0 col0\" >Model</th>        <th class=\"col_heading level0 col1\" >Accuracy</th>        <th class=\"col_heading level0 col2\" >AUC</th>        <th class=\"col_heading level0 col3\" >Recall</th>        <th class=\"col_heading level0 col4\" >Prec.</th>        <th class=\"col_heading level0 col5\" >F1</th>        <th class=\"col_heading level0 col6\" >Kappa</th>        <th class=\"col_heading level0 col7\" >MCC</th>        <th class=\"col_heading level0 col8\" >TT (Sec)</th>    </tr></thead><tbody>\n",
       "                <tr>\n",
       "                        <th id=\"T_1d582ef8_5b92_11eb_871d_5ccd5b98ebf2level0_row0\" class=\"row_heading level0 row0\" >catboost</th>\n",
       "                        <td id=\"T_1d582ef8_5b92_11eb_871d_5ccd5b98ebf2row0_col0\" class=\"data row0 col0\" >CatBoost Classifier</td>\n",
       "                        <td id=\"T_1d582ef8_5b92_11eb_871d_5ccd5b98ebf2row0_col1\" class=\"data row0 col1\" >0.8347</td>\n",
       "                        <td id=\"T_1d582ef8_5b92_11eb_871d_5ccd5b98ebf2row0_col2\" class=\"data row0 col2\" >0.8517</td>\n",
       "                        <td id=\"T_1d582ef8_5b92_11eb_871d_5ccd5b98ebf2row0_col3\" class=\"data row0 col3\" >0.7000</td>\n",
       "                        <td id=\"T_1d582ef8_5b92_11eb_871d_5ccd5b98ebf2row0_col4\" class=\"data row0 col4\" >0.8578</td>\n",
       "                        <td id=\"T_1d582ef8_5b92_11eb_871d_5ccd5b98ebf2row0_col5\" class=\"data row0 col5\" >0.7679</td>\n",
       "                        <td id=\"T_1d582ef8_5b92_11eb_871d_5ccd5b98ebf2row0_col6\" class=\"data row0 col6\" >0.6416</td>\n",
       "                        <td id=\"T_1d582ef8_5b92_11eb_871d_5ccd5b98ebf2row0_col7\" class=\"data row0 col7\" >0.6522</td>\n",
       "                        <td id=\"T_1d582ef8_5b92_11eb_871d_5ccd5b98ebf2row0_col8\" class=\"data row0 col8\" >0.9280</td>\n",
       "            </tr>\n",
       "            <tr>\n",
       "                        <th id=\"T_1d582ef8_5b92_11eb_871d_5ccd5b98ebf2level0_row1\" class=\"row_heading level0 row1\" >gbc</th>\n",
       "                        <td id=\"T_1d582ef8_5b92_11eb_871d_5ccd5b98ebf2row1_col0\" class=\"data row1 col0\" >Gradient Boosting Classifier</td>\n",
       "                        <td id=\"T_1d582ef8_5b92_11eb_871d_5ccd5b98ebf2row1_col1\" class=\"data row1 col1\" >0.8140</td>\n",
       "                        <td id=\"T_1d582ef8_5b92_11eb_871d_5ccd5b98ebf2row1_col2\" class=\"data row1 col2\" >0.8240</td>\n",
       "                        <td id=\"T_1d582ef8_5b92_11eb_871d_5ccd5b98ebf2row1_col3\" class=\"data row1 col3\" >0.6647</td>\n",
       "                        <td id=\"T_1d582ef8_5b92_11eb_871d_5ccd5b98ebf2row1_col4\" class=\"data row1 col4\" >0.8287</td>\n",
       "                        <td id=\"T_1d582ef8_5b92_11eb_871d_5ccd5b98ebf2row1_col5\" class=\"data row1 col5\" >0.7337</td>\n",
       "                        <td id=\"T_1d582ef8_5b92_11eb_871d_5ccd5b98ebf2row1_col6\" class=\"data row1 col6\" >0.5942</td>\n",
       "                        <td id=\"T_1d582ef8_5b92_11eb_871d_5ccd5b98ebf2row1_col7\" class=\"data row1 col7\" >0.6056</td>\n",
       "                        <td id=\"T_1d582ef8_5b92_11eb_871d_5ccd5b98ebf2row1_col8\" class=\"data row1 col8\" >0.0240</td>\n",
       "            </tr>\n",
       "            <tr>\n",
       "                        <th id=\"T_1d582ef8_5b92_11eb_871d_5ccd5b98ebf2level0_row2\" class=\"row_heading level0 row2\" >lr</th>\n",
       "                        <td id=\"T_1d582ef8_5b92_11eb_871d_5ccd5b98ebf2row2_col0\" class=\"data row2 col0\" >Logistic Regression</td>\n",
       "                        <td id=\"T_1d582ef8_5b92_11eb_871d_5ccd5b98ebf2row2_col1\" class=\"data row2 col1\" >0.8071</td>\n",
       "                        <td id=\"T_1d582ef8_5b92_11eb_871d_5ccd5b98ebf2row2_col2\" class=\"data row2 col2\" >0.8458</td>\n",
       "                        <td id=\"T_1d582ef8_5b92_11eb_871d_5ccd5b98ebf2row2_col3\" class=\"data row2 col3\" >0.7118</td>\n",
       "                        <td id=\"T_1d582ef8_5b92_11eb_871d_5ccd5b98ebf2row2_col4\" class=\"data row2 col4\" >0.7784</td>\n",
       "                        <td id=\"T_1d582ef8_5b92_11eb_871d_5ccd5b98ebf2row2_col5\" class=\"data row2 col5\" >0.7417</td>\n",
       "                        <td id=\"T_1d582ef8_5b92_11eb_871d_5ccd5b98ebf2row2_col6\" class=\"data row2 col6\" >0.5884</td>\n",
       "                        <td id=\"T_1d582ef8_5b92_11eb_871d_5ccd5b98ebf2row2_col7\" class=\"data row2 col7\" >0.5917</td>\n",
       "                        <td id=\"T_1d582ef8_5b92_11eb_871d_5ccd5b98ebf2row2_col8\" class=\"data row2 col8\" >0.0260</td>\n",
       "            </tr>\n",
       "            <tr>\n",
       "                        <th id=\"T_1d582ef8_5b92_11eb_871d_5ccd5b98ebf2level0_row3\" class=\"row_heading level0 row3\" >ridge</th>\n",
       "                        <td id=\"T_1d582ef8_5b92_11eb_871d_5ccd5b98ebf2row3_col0\" class=\"data row3 col0\" >Ridge Classifier</td>\n",
       "                        <td id=\"T_1d582ef8_5b92_11eb_871d_5ccd5b98ebf2row3_col1\" class=\"data row3 col1\" >0.8048</td>\n",
       "                        <td id=\"T_1d582ef8_5b92_11eb_871d_5ccd5b98ebf2row3_col2\" class=\"data row3 col2\" >0.0000</td>\n",
       "                        <td id=\"T_1d582ef8_5b92_11eb_871d_5ccd5b98ebf2row3_col3\" class=\"data row3 col3\" >0.7059</td>\n",
       "                        <td id=\"T_1d582ef8_5b92_11eb_871d_5ccd5b98ebf2row3_col4\" class=\"data row3 col4\" >0.7778</td>\n",
       "                        <td id=\"T_1d582ef8_5b92_11eb_871d_5ccd5b98ebf2row3_col5\" class=\"data row3 col5\" >0.7370</td>\n",
       "                        <td id=\"T_1d582ef8_5b92_11eb_871d_5ccd5b98ebf2row3_col6\" class=\"data row3 col6\" >0.5827</td>\n",
       "                        <td id=\"T_1d582ef8_5b92_11eb_871d_5ccd5b98ebf2row3_col7\" class=\"data row3 col7\" >0.5874</td>\n",
       "                        <td id=\"T_1d582ef8_5b92_11eb_871d_5ccd5b98ebf2row3_col8\" class=\"data row3 col8\" >0.0070</td>\n",
       "            </tr>\n",
       "            <tr>\n",
       "                        <th id=\"T_1d582ef8_5b92_11eb_871d_5ccd5b98ebf2level0_row4\" class=\"row_heading level0 row4\" >lda</th>\n",
       "                        <td id=\"T_1d582ef8_5b92_11eb_871d_5ccd5b98ebf2row4_col0\" class=\"data row4 col0\" >Linear Discriminant Analysis</td>\n",
       "                        <td id=\"T_1d582ef8_5b92_11eb_871d_5ccd5b98ebf2row4_col1\" class=\"data row4 col1\" >0.8047</td>\n",
       "                        <td id=\"T_1d582ef8_5b92_11eb_871d_5ccd5b98ebf2row4_col2\" class=\"data row4 col2\" >0.8447</td>\n",
       "                        <td id=\"T_1d582ef8_5b92_11eb_871d_5ccd5b98ebf2row4_col3\" class=\"data row4 col3\" >0.7059</td>\n",
       "                        <td id=\"T_1d582ef8_5b92_11eb_871d_5ccd5b98ebf2row4_col4\" class=\"data row4 col4\" >0.7776</td>\n",
       "                        <td id=\"T_1d582ef8_5b92_11eb_871d_5ccd5b98ebf2row4_col5\" class=\"data row4 col5\" >0.7370</td>\n",
       "                        <td id=\"T_1d582ef8_5b92_11eb_871d_5ccd5b98ebf2row4_col6\" class=\"data row4 col6\" >0.5826</td>\n",
       "                        <td id=\"T_1d582ef8_5b92_11eb_871d_5ccd5b98ebf2row4_col7\" class=\"data row4 col7\" >0.5872</td>\n",
       "                        <td id=\"T_1d582ef8_5b92_11eb_871d_5ccd5b98ebf2row4_col8\" class=\"data row4 col8\" >0.0070</td>\n",
       "            </tr>\n",
       "            <tr>\n",
       "                        <th id=\"T_1d582ef8_5b92_11eb_871d_5ccd5b98ebf2level0_row5\" class=\"row_heading level0 row5\" >lightgbm</th>\n",
       "                        <td id=\"T_1d582ef8_5b92_11eb_871d_5ccd5b98ebf2row5_col0\" class=\"data row5 col0\" >Light Gradient Boosting Machine</td>\n",
       "                        <td id=\"T_1d582ef8_5b92_11eb_871d_5ccd5b98ebf2row5_col1\" class=\"data row5 col1\" >0.8005</td>\n",
       "                        <td id=\"T_1d582ef8_5b92_11eb_871d_5ccd5b98ebf2row5_col2\" class=\"data row5 col2\" >0.8623</td>\n",
       "                        <td id=\"T_1d582ef8_5b92_11eb_871d_5ccd5b98ebf2row5_col3\" class=\"data row5 col3\" >0.6882</td>\n",
       "                        <td id=\"T_1d582ef8_5b92_11eb_871d_5ccd5b98ebf2row5_col4\" class=\"data row5 col4\" >0.7831</td>\n",
       "                        <td id=\"T_1d582ef8_5b92_11eb_871d_5ccd5b98ebf2row5_col5\" class=\"data row5 col5\" >0.7286</td>\n",
       "                        <td id=\"T_1d582ef8_5b92_11eb_871d_5ccd5b98ebf2row5_col6\" class=\"data row5 col6\" >0.5723</td>\n",
       "                        <td id=\"T_1d582ef8_5b92_11eb_871d_5ccd5b98ebf2row5_col7\" class=\"data row5 col7\" >0.5789</td>\n",
       "                        <td id=\"T_1d582ef8_5b92_11eb_871d_5ccd5b98ebf2row5_col8\" class=\"data row5 col8\" >0.0120</td>\n",
       "            </tr>\n",
       "            <tr>\n",
       "                        <th id=\"T_1d582ef8_5b92_11eb_871d_5ccd5b98ebf2level0_row6\" class=\"row_heading level0 row6\" >rf</th>\n",
       "                        <td id=\"T_1d582ef8_5b92_11eb_871d_5ccd5b98ebf2row6_col0\" class=\"data row6 col0\" >Random Forest Classifier</td>\n",
       "                        <td id=\"T_1d582ef8_5b92_11eb_871d_5ccd5b98ebf2row6_col1\" class=\"data row6 col1\" >0.7982</td>\n",
       "                        <td id=\"T_1d582ef8_5b92_11eb_871d_5ccd5b98ebf2row6_col2\" class=\"data row6 col2\" >0.8365</td>\n",
       "                        <td id=\"T_1d582ef8_5b92_11eb_871d_5ccd5b98ebf2row6_col3\" class=\"data row6 col3\" >0.7000</td>\n",
       "                        <td id=\"T_1d582ef8_5b92_11eb_871d_5ccd5b98ebf2row6_col4\" class=\"data row6 col4\" >0.7674</td>\n",
       "                        <td id=\"T_1d582ef8_5b92_11eb_871d_5ccd5b98ebf2row6_col5\" class=\"data row6 col5\" >0.7288</td>\n",
       "                        <td id=\"T_1d582ef8_5b92_11eb_871d_5ccd5b98ebf2row6_col6\" class=\"data row6 col6\" >0.5691</td>\n",
       "                        <td id=\"T_1d582ef8_5b92_11eb_871d_5ccd5b98ebf2row6_col7\" class=\"data row6 col7\" >0.5736</td>\n",
       "                        <td id=\"T_1d582ef8_5b92_11eb_871d_5ccd5b98ebf2row6_col8\" class=\"data row6 col8\" >0.0660</td>\n",
       "            </tr>\n",
       "            <tr>\n",
       "                        <th id=\"T_1d582ef8_5b92_11eb_871d_5ccd5b98ebf2level0_row7\" class=\"row_heading level0 row7\" >xgboost</th>\n",
       "                        <td id=\"T_1d582ef8_5b92_11eb_871d_5ccd5b98ebf2row7_col0\" class=\"data row7 col0\" >Extreme Gradient Boosting</td>\n",
       "                        <td id=\"T_1d582ef8_5b92_11eb_871d_5ccd5b98ebf2row7_col1\" class=\"data row7 col1\" >0.7890</td>\n",
       "                        <td id=\"T_1d582ef8_5b92_11eb_871d_5ccd5b98ebf2row7_col2\" class=\"data row7 col2\" >0.8353</td>\n",
       "                        <td id=\"T_1d582ef8_5b92_11eb_871d_5ccd5b98ebf2row7_col3\" class=\"data row7 col3\" >0.6765</td>\n",
       "                        <td id=\"T_1d582ef8_5b92_11eb_871d_5ccd5b98ebf2row7_col4\" class=\"data row7 col4\" >0.7633</td>\n",
       "                        <td id=\"T_1d582ef8_5b92_11eb_871d_5ccd5b98ebf2row7_col5\" class=\"data row7 col5\" >0.7135</td>\n",
       "                        <td id=\"T_1d582ef8_5b92_11eb_871d_5ccd5b98ebf2row7_col6\" class=\"data row7 col6\" >0.5480</td>\n",
       "                        <td id=\"T_1d582ef8_5b92_11eb_871d_5ccd5b98ebf2row7_col7\" class=\"data row7 col7\" >0.5538</td>\n",
       "                        <td id=\"T_1d582ef8_5b92_11eb_871d_5ccd5b98ebf2row7_col8\" class=\"data row7 col8\" >0.0690</td>\n",
       "            </tr>\n",
       "            <tr>\n",
       "                        <th id=\"T_1d582ef8_5b92_11eb_871d_5ccd5b98ebf2level0_row8\" class=\"row_heading level0 row8\" >et</th>\n",
       "                        <td id=\"T_1d582ef8_5b92_11eb_871d_5ccd5b98ebf2row8_col0\" class=\"data row8 col0\" >Extra Trees Classifier</td>\n",
       "                        <td id=\"T_1d582ef8_5b92_11eb_871d_5ccd5b98ebf2row8_col1\" class=\"data row8 col1\" >0.7867</td>\n",
       "                        <td id=\"T_1d582ef8_5b92_11eb_871d_5ccd5b98ebf2row8_col2\" class=\"data row8 col2\" >0.8101</td>\n",
       "                        <td id=\"T_1d582ef8_5b92_11eb_871d_5ccd5b98ebf2row8_col3\" class=\"data row8 col3\" >0.7000</td>\n",
       "                        <td id=\"T_1d582ef8_5b92_11eb_871d_5ccd5b98ebf2row8_col4\" class=\"data row8 col4\" >0.7459</td>\n",
       "                        <td id=\"T_1d582ef8_5b92_11eb_871d_5ccd5b98ebf2row8_col5\" class=\"data row8 col5\" >0.7182</td>\n",
       "                        <td id=\"T_1d582ef8_5b92_11eb_871d_5ccd5b98ebf2row8_col6\" class=\"data row8 col6\" >0.5473</td>\n",
       "                        <td id=\"T_1d582ef8_5b92_11eb_871d_5ccd5b98ebf2row8_col7\" class=\"data row8 col7\" >0.5517</td>\n",
       "                        <td id=\"T_1d582ef8_5b92_11eb_871d_5ccd5b98ebf2row8_col8\" class=\"data row8 col8\" >0.0600</td>\n",
       "            </tr>\n",
       "            <tr>\n",
       "                        <th id=\"T_1d582ef8_5b92_11eb_871d_5ccd5b98ebf2level0_row9\" class=\"row_heading level0 row9\" >ada</th>\n",
       "                        <td id=\"T_1d582ef8_5b92_11eb_871d_5ccd5b98ebf2row9_col0\" class=\"data row9 col0\" >Ada Boost Classifier</td>\n",
       "                        <td id=\"T_1d582ef8_5b92_11eb_871d_5ccd5b98ebf2row9_col1\" class=\"data row9 col1\" >0.7863</td>\n",
       "                        <td id=\"T_1d582ef8_5b92_11eb_871d_5ccd5b98ebf2row9_col2\" class=\"data row9 col2\" >0.8195</td>\n",
       "                        <td id=\"T_1d582ef8_5b92_11eb_871d_5ccd5b98ebf2row9_col3\" class=\"data row9 col3\" >0.7235</td>\n",
       "                        <td id=\"T_1d582ef8_5b92_11eb_871d_5ccd5b98ebf2row9_col4\" class=\"data row9 col4\" >0.7297</td>\n",
       "                        <td id=\"T_1d582ef8_5b92_11eb_871d_5ccd5b98ebf2row9_col5\" class=\"data row9 col5\" >0.7246</td>\n",
       "                        <td id=\"T_1d582ef8_5b92_11eb_871d_5ccd5b98ebf2row9_col6\" class=\"data row9 col6\" >0.5503</td>\n",
       "                        <td id=\"T_1d582ef8_5b92_11eb_871d_5ccd5b98ebf2row9_col7\" class=\"data row9 col7\" >0.5522</td>\n",
       "                        <td id=\"T_1d582ef8_5b92_11eb_871d_5ccd5b98ebf2row9_col8\" class=\"data row9 col8\" >0.0260</td>\n",
       "            </tr>\n",
       "            <tr>\n",
       "                        <th id=\"T_1d582ef8_5b92_11eb_871d_5ccd5b98ebf2level0_row10\" class=\"row_heading level0 row10\" >dt</th>\n",
       "                        <td id=\"T_1d582ef8_5b92_11eb_871d_5ccd5b98ebf2row10_col0\" class=\"data row10 col0\" >Decision Tree Classifier</td>\n",
       "                        <td id=\"T_1d582ef8_5b92_11eb_871d_5ccd5b98ebf2row10_col1\" class=\"data row10 col1\" >0.7504</td>\n",
       "                        <td id=\"T_1d582ef8_5b92_11eb_871d_5ccd5b98ebf2row10_col2\" class=\"data row10 col2\" >0.7378</td>\n",
       "                        <td id=\"T_1d582ef8_5b92_11eb_871d_5ccd5b98ebf2row10_col3\" class=\"data row10 col3\" >0.6765</td>\n",
       "                        <td id=\"T_1d582ef8_5b92_11eb_871d_5ccd5b98ebf2row10_col4\" class=\"data row10 col4\" >0.6937</td>\n",
       "                        <td id=\"T_1d582ef8_5b92_11eb_871d_5ccd5b98ebf2row10_col5\" class=\"data row10 col5\" >0.6804</td>\n",
       "                        <td id=\"T_1d582ef8_5b92_11eb_871d_5ccd5b98ebf2row10_col6\" class=\"data row10 col6\" >0.4764</td>\n",
       "                        <td id=\"T_1d582ef8_5b92_11eb_871d_5ccd5b98ebf2row10_col7\" class=\"data row10 col7\" >0.4806</td>\n",
       "                        <td id=\"T_1d582ef8_5b92_11eb_871d_5ccd5b98ebf2row10_col8\" class=\"data row10 col8\" >0.0070</td>\n",
       "            </tr>\n",
       "            <tr>\n",
       "                        <th id=\"T_1d582ef8_5b92_11eb_871d_5ccd5b98ebf2level0_row11\" class=\"row_heading level0 row11\" >knn</th>\n",
       "                        <td id=\"T_1d582ef8_5b92_11eb_871d_5ccd5b98ebf2row11_col0\" class=\"data row11 col0\" >K Neighbors Classifier</td>\n",
       "                        <td id=\"T_1d582ef8_5b92_11eb_871d_5ccd5b98ebf2row11_col1\" class=\"data row11 col1\" >0.7137</td>\n",
       "                        <td id=\"T_1d582ef8_5b92_11eb_871d_5ccd5b98ebf2row11_col2\" class=\"data row11 col2\" >0.6861</td>\n",
       "                        <td id=\"T_1d582ef8_5b92_11eb_871d_5ccd5b98ebf2row11_col3\" class=\"data row11 col3\" >0.5529</td>\n",
       "                        <td id=\"T_1d582ef8_5b92_11eb_871d_5ccd5b98ebf2row11_col4\" class=\"data row11 col4\" >0.6586</td>\n",
       "                        <td id=\"T_1d582ef8_5b92_11eb_871d_5ccd5b98ebf2row11_col5\" class=\"data row11 col5\" >0.5977</td>\n",
       "                        <td id=\"T_1d582ef8_5b92_11eb_871d_5ccd5b98ebf2row11_col6\" class=\"data row11 col6\" >0.3791</td>\n",
       "                        <td id=\"T_1d582ef8_5b92_11eb_871d_5ccd5b98ebf2row11_col7\" class=\"data row11 col7\" >0.3847</td>\n",
       "                        <td id=\"T_1d582ef8_5b92_11eb_871d_5ccd5b98ebf2row11_col8\" class=\"data row11 col8\" >0.0110</td>\n",
       "            </tr>\n",
       "            <tr>\n",
       "                        <th id=\"T_1d582ef8_5b92_11eb_871d_5ccd5b98ebf2level0_row12\" class=\"row_heading level0 row12\" >svm</th>\n",
       "                        <td id=\"T_1d582ef8_5b92_11eb_871d_5ccd5b98ebf2row12_col0\" class=\"data row12 col0\" >SVM - Linear Kernel</td>\n",
       "                        <td id=\"T_1d582ef8_5b92_11eb_871d_5ccd5b98ebf2row12_col1\" class=\"data row12 col1\" >0.6128</td>\n",
       "                        <td id=\"T_1d582ef8_5b92_11eb_871d_5ccd5b98ebf2row12_col2\" class=\"data row12 col2\" >0.0000</td>\n",
       "                        <td id=\"T_1d582ef8_5b92_11eb_871d_5ccd5b98ebf2row12_col3\" class=\"data row12 col3\" >0.3824</td>\n",
       "                        <td id=\"T_1d582ef8_5b92_11eb_871d_5ccd5b98ebf2row12_col4\" class=\"data row12 col4\" >0.4782</td>\n",
       "                        <td id=\"T_1d582ef8_5b92_11eb_871d_5ccd5b98ebf2row12_col5\" class=\"data row12 col5\" >0.3614</td>\n",
       "                        <td id=\"T_1d582ef8_5b92_11eb_871d_5ccd5b98ebf2row12_col6\" class=\"data row12 col6\" >0.1436</td>\n",
       "                        <td id=\"T_1d582ef8_5b92_11eb_871d_5ccd5b98ebf2row12_col7\" class=\"data row12 col7\" >0.1687</td>\n",
       "                        <td id=\"T_1d582ef8_5b92_11eb_871d_5ccd5b98ebf2row12_col8\" class=\"data row12 col8\" >0.0070</td>\n",
       "            </tr>\n",
       "            <tr>\n",
       "                        <th id=\"T_1d582ef8_5b92_11eb_871d_5ccd5b98ebf2level0_row13\" class=\"row_heading level0 row13\" >qda</th>\n",
       "                        <td id=\"T_1d582ef8_5b92_11eb_871d_5ccd5b98ebf2row13_col0\" class=\"data row13 col0\" >Quadratic Discriminant Analysis</td>\n",
       "                        <td id=\"T_1d582ef8_5b92_11eb_871d_5ccd5b98ebf2row13_col1\" class=\"data row13 col1\" >0.4127</td>\n",
       "                        <td id=\"T_1d582ef8_5b92_11eb_871d_5ccd5b98ebf2row13_col2\" class=\"data row13 col2\" >0.0000</td>\n",
       "                        <td id=\"T_1d582ef8_5b92_11eb_871d_5ccd5b98ebf2row13_col3\" class=\"data row13 col3\" >0.9000</td>\n",
       "                        <td id=\"T_1d582ef8_5b92_11eb_871d_5ccd5b98ebf2row13_col4\" class=\"data row13 col4\" >0.3513</td>\n",
       "                        <td id=\"T_1d582ef8_5b92_11eb_871d_5ccd5b98ebf2row13_col5\" class=\"data row13 col5\" >0.5054</td>\n",
       "                        <td id=\"T_1d582ef8_5b92_11eb_871d_5ccd5b98ebf2row13_col6\" class=\"data row13 col6\" >0.0000</td>\n",
       "                        <td id=\"T_1d582ef8_5b92_11eb_871d_5ccd5b98ebf2row13_col7\" class=\"data row13 col7\" >0.0000</td>\n",
       "                        <td id=\"T_1d582ef8_5b92_11eb_871d_5ccd5b98ebf2row13_col8\" class=\"data row13 col8\" >0.0070</td>\n",
       "            </tr>\n",
       "            <tr>\n",
       "                        <th id=\"T_1d582ef8_5b92_11eb_871d_5ccd5b98ebf2level0_row14\" class=\"row_heading level0 row14\" >nb</th>\n",
       "                        <td id=\"T_1d582ef8_5b92_11eb_871d_5ccd5b98ebf2row14_col0\" class=\"data row14 col0\" >Naive Bayes</td>\n",
       "                        <td id=\"T_1d582ef8_5b92_11eb_871d_5ccd5b98ebf2row14_col1\" class=\"data row14 col1\" >0.4082</td>\n",
       "                        <td id=\"T_1d582ef8_5b92_11eb_871d_5ccd5b98ebf2row14_col2\" class=\"data row14 col2\" >0.7736</td>\n",
       "                        <td id=\"T_1d582ef8_5b92_11eb_871d_5ccd5b98ebf2row14_col3\" class=\"data row14 col3\" >0.9706</td>\n",
       "                        <td id=\"T_1d582ef8_5b92_11eb_871d_5ccd5b98ebf2row14_col4\" class=\"data row14 col4\" >0.3950</td>\n",
       "                        <td id=\"T_1d582ef8_5b92_11eb_871d_5ccd5b98ebf2row14_col5\" class=\"data row14 col5\" >0.5613</td>\n",
       "                        <td id=\"T_1d582ef8_5b92_11eb_871d_5ccd5b98ebf2row14_col6\" class=\"data row14 col6\" >0.0154</td>\n",
       "                        <td id=\"T_1d582ef8_5b92_11eb_871d_5ccd5b98ebf2row14_col7\" class=\"data row14 col7\" >0.0389</td>\n",
       "                        <td id=\"T_1d582ef8_5b92_11eb_871d_5ccd5b98ebf2row14_col8\" class=\"data row14 col8\" >0.0060</td>\n",
       "            </tr>\n",
       "    </tbody></table>"
      ],
      "text/plain": [
       "<pandas.io.formats.style.Styler at 0x26e3cdadd00>"
      ]
     },
     "metadata": {},
     "output_type": "display_data"
    }
   ],
   "source": [
    "clf1 = setup(data = pd.concat([X_train_encoded, y_train], axis=1), target = 'Survived')\n",
    "best = compare_models(sort = 'Accuracy')"
   ]
  },
  {
   "cell_type": "code",
   "execution_count": null,
   "metadata": {},
   "outputs": [],
   "source": []
  }
 ],
 "metadata": {
  "hide_input": false,
  "kernelspec": {
   "display_name": "Python 3",
   "language": "python",
   "name": "python3"
  },
  "language_info": {
   "codemirror_mode": {
    "name": "ipython",
    "version": 3
   },
   "file_extension": ".py",
   "mimetype": "text/x-python",
   "name": "python",
   "nbconvert_exporter": "python",
   "pygments_lexer": "ipython3",
   "version": "3.8.5"
  },
  "toc": {
   "base_numbering": 1,
   "nav_menu": {},
   "number_sections": true,
   "sideBar": true,
   "skip_h1_title": false,
   "title_cell": "Table of Contents",
   "title_sidebar": "Contents",
   "toc_cell": false,
   "toc_position": {},
   "toc_section_display": true,
   "toc_window_display": false
  }
 },
 "nbformat": 4,
 "nbformat_minor": 4
}
