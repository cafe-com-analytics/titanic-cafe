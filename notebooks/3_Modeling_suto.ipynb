{
 "cells": [
  {
   "cell_type": "markdown",
   "metadata": {},
   "source": [
    "# Modeling"
   ]
  },
  {
   "cell_type": "code",
   "execution_count": 1,
   "metadata": {
    "ExecuteTime": {
     "end_time": "2021-02-06T03:49:58.391884Z",
     "start_time": "2021-02-06T03:49:53.723082Z"
    }
   },
   "outputs": [],
   "source": [
    "import os\n",
    "from datetime import datetime\n",
    "from hashlib import sha256\n",
    "\n",
    "import pandas as pd\n",
    "import numpy as np\n",
    "\n",
    "# -------------------------\n",
    "# model libs\n",
    "from pycaret.classification import *\n",
    "from xgboost import XGBClassifier\n",
    "from lightgbm import LGBMClassifier\n",
    "from catboost import CatBoostClassifier\n",
    "from sklearn.svm import LinearSVC, SVC\n",
    "from sklearn.ensemble import RandomForestClassifier\n",
    "\n",
    "# -------------------------\n",
    "# model validation and hyperparameter tunning libs\n",
    "from sklearn.model_selection import (cross_val_score, RepeatedStratifiedKFold,\n",
    "                                     RandomizedSearchCV, GridSearchCV, train_test_split, cross_validate)\n",
    "\n",
    "from sklearn.metrics import (precision_recall_curve, average_precision_score, classification_report, roc_curve)\n",
    "\n",
    "from yellowbrick import ROCAUC\n",
    "\n",
    "# -------------------------\n",
    "# graph libs\n",
    "import matplotlib.pyplot as plt\n",
    "import seaborn as sns\n",
    "\n",
    "import pickle\n",
    "import joblib\n",
    "\n",
    "os.chdir(\"../src/\")\n",
    "from utils.data_describe import DataDescribe as dd\n",
    "from utils.classification_model_evaluation import ClassificationModelEvaluation as cme\n",
    "\n",
    "raw_path = \"../data/raw/\"\n",
    "external_path = \"../data/external/\"\n",
    "interim_path = \"../data/interim/\"\n",
    "processed_path = \"../data/processed/\"\n",
    "reports_path = \"../reports/\"\n",
    "\n",
    "path_model = \"../models/\"\n",
    "\n",
    "pd.set_option('display.max_columns', None)\n",
    "pd.set_option('display.max_rows', None)\n",
    "\n",
    "# load the autoreload extension\n",
    "%load_ext autoreload\n",
    "\n",
    "# Set extension to reload modules every time before executing code\n",
    "%autoreload 2"
   ]
  },
  {
   "cell_type": "markdown",
   "metadata": {},
   "source": [
    "## Carregando dataframes da preparação de dados"
   ]
  },
  {
   "cell_type": "code",
   "execution_count": 2,
   "metadata": {
    "ExecuteTime": {
     "end_time": "2021-02-06T03:49:58.702758Z",
     "start_time": "2021-02-06T03:49:58.393631Z"
    }
   },
   "outputs": [
    {
     "name": "stdout",
     "output_type": "stream",
     "text": [
      "O dataframe X_train possui:\n",
      "- 623 registros; e\n",
      "- 11 atributos, SEM a variável resposta (\"Survived\").\n",
      "\n",
      "O dataframe X_validation possui:\n",
      "- 268 registros; e\n",
      "- 11 atributos, SEM a variável resposta (\"Survived\").\n",
      "\n",
      "O dataframe X_test possui:\n",
      "- 418 registros.\n",
      "- 11 atributos, SEM a variável resposta (\"Survived\").\n"
     ]
    }
   ],
   "source": [
    "X_train_encoded = pd.read_parquet(interim_path+'X_train_encoded_v1.pqt')\n",
    "X_validation_encoded = pd.read_parquet(interim_path+'X_validation_encoded_v1.pqt')\n",
    "\n",
    "y_train = pd.read_parquet(interim_path+'y_train.pqt')\n",
    "y_validation = pd.read_parquet(interim_path+'y_validation.pqt')\n",
    "\n",
    "X_test = pd.read_parquet(interim_path+'df_test_encoded.pqt')\n",
    "\n",
    "print(f\"\"\"O dataframe X_train possui:\n",
    "- {X_train_encoded.shape[0]} registros; e\n",
    "- {X_train_encoded.shape[1]} atributos, SEM a variável resposta (\"Survived\").\n",
    "\"\"\")\n",
    "\n",
    "print(f\"\"\"O dataframe X_validation possui:\n",
    "- {X_validation_encoded.shape[0]} registros; e\n",
    "- {X_validation_encoded.shape[1]} atributos, SEM a variável resposta (\"Survived\").\n",
    "\"\"\")\n",
    "\n",
    "print(f\"\"\"O dataframe X_test possui:\n",
    "- {X_test.shape[0]} registros.\n",
    "- {X_test.shape[1]} atributos, SEM a variável resposta (\"Survived\").\"\"\")"
   ]
  },
  {
   "cell_type": "markdown",
   "metadata": {},
   "source": [
    "## Fazendo o split treinamento/validação no df_train"
   ]
  },
  {
   "cell_type": "code",
   "execution_count": 3,
   "metadata": {
    "ExecuteTime": {
     "end_time": "2021-02-06T03:49:58.824764Z",
     "start_time": "2021-02-06T03:49:58.704757Z"
    }
   },
   "outputs": [],
   "source": [
    "n_splits = 6\n",
    "n_repeats = 3\n",
    "random_state = 42\n",
    "scoring = \"accuracy\"\n",
    "\n",
    "cv = RepeatedStratifiedKFold(n_splits=n_splits, n_repeats=n_repeats, random_state=random_state)"
   ]
  },
  {
   "cell_type": "markdown",
   "metadata": {},
   "source": [
    "### Quantos splits usar?"
   ]
  },
  {
   "cell_type": "code",
   "execution_count": 4,
   "metadata": {
    "ExecuteTime": {
     "end_time": "2021-02-06T03:50:13.055155Z",
     "start_time": "2021-02-06T03:50:01.592578Z"
    }
   },
   "outputs": [
    {
     "data": {
      "text/html": [
       "<div>\n",
       "<style scoped>\n",
       "    .dataframe tbody tr th:only-of-type {\n",
       "        vertical-align: middle;\n",
       "    }\n",
       "\n",
       "    .dataframe tbody tr th {\n",
       "        vertical-align: top;\n",
       "    }\n",
       "\n",
       "    .dataframe thead th {\n",
       "        text-align: right;\n",
       "    }\n",
       "</style>\n",
       "<table border=\"1\" class=\"dataframe\">\n",
       "  <thead>\n",
       "    <tr style=\"text-align: right;\">\n",
       "      <th></th>\n",
       "      <th>train_score</th>\n",
       "      <th>test_score</th>\n",
       "    </tr>\n",
       "  </thead>\n",
       "  <tbody>\n",
       "    <tr>\n",
       "      <th>2</th>\n",
       "      <td>-0.989</td>\n",
       "      <td>-0.795</td>\n",
       "    </tr>\n",
       "    <tr>\n",
       "      <th>3</th>\n",
       "      <td>-0.985</td>\n",
       "      <td>-0.803</td>\n",
       "    </tr>\n",
       "    <tr>\n",
       "      <th>4</th>\n",
       "      <td>-0.984</td>\n",
       "      <td>-0.802</td>\n",
       "    </tr>\n",
       "    <tr>\n",
       "      <th>5</th>\n",
       "      <td>-0.983</td>\n",
       "      <td>-0.805</td>\n",
       "    </tr>\n",
       "    <tr>\n",
       "      <th>6</th>\n",
       "      <td>-0.983</td>\n",
       "      <td>-0.808</td>\n",
       "    </tr>\n",
       "    <tr>\n",
       "      <th>7</th>\n",
       "      <td>-0.983</td>\n",
       "      <td>-0.803</td>\n",
       "    </tr>\n",
       "    <tr>\n",
       "      <th>8</th>\n",
       "      <td>-0.982</td>\n",
       "      <td>-0.804</td>\n",
       "    </tr>\n",
       "    <tr>\n",
       "      <th>9</th>\n",
       "      <td>-0.982</td>\n",
       "      <td>-0.806</td>\n",
       "    </tr>\n",
       "  </tbody>\n",
       "</table>\n",
       "</div>"
      ],
      "text/plain": [
       "   train_score  test_score\n",
       "2       -0.989      -0.795\n",
       "3       -0.985      -0.803\n",
       "4       -0.984      -0.802\n",
       "5       -0.983      -0.805\n",
       "6       -0.983      -0.808\n",
       "7       -0.983      -0.803\n",
       "8       -0.982      -0.804\n",
       "9       -0.982      -0.806"
      ]
     },
     "execution_count": 4,
     "metadata": {},
     "output_type": "execute_result"
    }
   ],
   "source": [
    "model_rf = RandomForestClassifier(random_state=random_state)\n",
    "\n",
    "dct_splits = {}\n",
    "\n",
    "for n_split in range(2,10):\n",
    "    cv = RepeatedStratifiedKFold(n_splits=n_split, n_repeats=n_repeats, random_state=random_state)\n",
    "\n",
    "    cross = cross_validate(model_rf, X_train_encoded, y_train, cv=cv, scoring=\"accuracy\", return_train_score=True, return_estimator=True, n_jobs=-1)\n",
    "\n",
    "    dct_splits[n_split]={'train_score': round(-cross['train_score'].mean(), 3), 'test_score': round(-cross['test_score'].mean(), 3)}\n",
    "\n",
    "pd.DataFrame.from_dict(dct_splits, orient='index')"
   ]
  },
  {
   "cell_type": "markdown",
   "metadata": {},
   "source": [
    "## Modelo baseline (\"Random Forest\")"
   ]
  },
  {
   "cell_type": "code",
   "execution_count": null,
   "metadata": {
    "ExecuteTime": {
     "end_time": "2021-01-23T13:02:45.379893Z",
     "start_time": "2021-01-23T13:02:33.684581Z"
    }
   },
   "outputs": [],
   "source": [
    "model_rf = RandomForestClassifier(random_state=random_state, n_estimators=1000, n_jobs=-1, max_depth=int((len(X_train_encoded.columns))**0.5))\n",
    "\n",
    "n_scores = cross_val_score(estimator=model_rf, X=X_train_encoded, y=y_train, scoring=scoring, cv=cv, n_jobs=-1, error_score='raise')\n",
    "\n",
    "print(f\"{scoring}: média: {n_scores.mean():.3f}  desvio padrão: {n_scores.std():.3f}\")"
   ]
  },
  {
   "cell_type": "code",
   "execution_count": null,
   "metadata": {
    "ExecuteTime": {
     "end_time": "2021-01-23T13:03:00.661805Z",
     "start_time": "2021-01-23T13:02:45.382896Z"
    }
   },
   "outputs": [],
   "source": [
    "cross = cross_validate(model_rf, X_train_encoded, y_train, cv=cv, scoring=\"accuracy\", return_train_score=True, return_estimator=True, n_jobs=-1)\n",
    "\n",
    "for key in ['test_score', 'train_score']:\n",
    "    print(f\"\"\"{key}: {round(-cross[key].mean(), 3)}\"\"\")\n",
    "\n",
    "print(\"\\n\")\n",
    "\n",
    "dct_importance = {}\n",
    "\n",
    "for i, model in enumerate(cross['estimator']):\n",
    "    dct_importance[i] = model.feature_importances_\n",
    "\n",
    "print(\"Feature importance:\")\n",
    "dct_importance = pd.DataFrame.from_dict(dct_importance, orient='index', columns=X_train_encoded.columns)\n",
    "np.mean(dct_importance).sort_values(ascending=False)"
   ]
  },
  {
   "cell_type": "markdown",
   "metadata": {},
   "source": [
    "## Gerando a primeira submissão\n",
    "\n",
    "Usando o modelo baseline, geraremos a primeira submissão para ver como será a acurácia com os dados de teste."
   ]
  },
  {
   "cell_type": "code",
   "execution_count": null,
   "metadata": {},
   "outputs": [],
   "source": [
    "X = pd.concat([X_train_encoded, X_validation_encoded], axis=0)\n",
    "y = pd.concat([y_train, y_validation], axis=0)\n",
    "\n",
    "model_rf.fit(X, y)\n",
    "\n",
    "y_pred = model_rf.predict(X_test) \n",
    "\n",
    "y_pred = pd.DataFrame(y_pred, index=X_test.index, columns=[\"Survived\"])\n",
    "\n",
    "y_pred.to_csv(processed_path+\"y_pred.csv\")"
   ]
  },
  {
   "cell_type": "markdown",
   "metadata": {},
   "source": [
    "## Usando comparação de modelos usando o pycaret"
   ]
  },
  {
   "cell_type": "code",
   "execution_count": null,
   "metadata": {
    "ExecuteTime": {
     "end_time": "2021-01-23T12:22:22.942214Z",
     "start_time": "2021-01-23T12:21:24.889449Z"
    }
   },
   "outputs": [],
   "source": [
    "clf1 = setup(data = pd.concat([X_train_encoded, y_train], axis=1), target = 'Survived')\n",
    "best = compare_models(sort = 'Accuracy')"
   ]
  },
  {
   "cell_type": "code",
   "execution_count": null,
   "metadata": {},
   "outputs": [],
   "source": []
  }
 ],
 "metadata": {
  "hide_input": false,
  "kernelspec": {
   "display_name": "Python 3",
   "language": "python",
   "name": "python3"
  },
  "language_info": {
   "codemirror_mode": {
    "name": "ipython",
    "version": 3
   },
   "file_extension": ".py",
   "mimetype": "text/x-python",
   "name": "python",
   "nbconvert_exporter": "python",
   "pygments_lexer": "ipython3",
   "version": "3.8.5"
  },
  "toc": {
   "base_numbering": 1,
   "nav_menu": {},
   "number_sections": true,
   "sideBar": true,
   "skip_h1_title": false,
   "title_cell": "Table of Contents",
   "title_sidebar": "Contents",
   "toc_cell": false,
   "toc_position": {},
   "toc_section_display": true,
   "toc_window_display": false
  }
 },
 "nbformat": 4,
 "nbformat_minor": 4
}
