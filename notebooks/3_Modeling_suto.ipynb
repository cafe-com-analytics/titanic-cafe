{
 "cells": [
  {
   "cell_type": "markdown",
   "metadata": {},
   "source": [
    "# Modeling"
   ]
  },
  {
   "cell_type": "code",
   "execution_count": 25,
   "metadata": {
    "ExecuteTime": {
     "end_time": "2021-01-17T04:10:45.133339Z",
     "start_time": "2021-01-17T04:10:45.019339Z"
    }
   },
   "outputs": [
    {
     "name": "stdout",
     "output_type": "stream",
     "text": [
      "The autoreload extension is already loaded. To reload it, use:\n",
      "  %reload_ext autoreload\n"
     ]
    }
   ],
   "source": [
    "import os\n",
    "from datetime import datetime\n",
    "from hashlib import sha256\n",
    "\n",
    "import pandas as pd\n",
    "import numpy as np\n",
    "\n",
    "# -------------------------\n",
    "# model libs\n",
    "from pycaret.classification import *\n",
    "from xgboost import XGBClassifier\n",
    "from lightgbm import LGBMClassifier\n",
    "from catboost import CatBoostClassifier\n",
    "from sklearn.svm import LinearSVC, SVC\n",
    "from sklearn.ensemble import RandomForestClassifier\n",
    "\n",
    "# -------------------------\n",
    "# model validation and hyperparameter tunning libs\n",
    "from sklearn.model_selection import (cross_val_score, RepeatedStratifiedKFold,\n",
    "                                     RandomizedSearchCV, GridSearchCV, train_test_split)\n",
    "\n",
    "from sklearn.metrics import (precision_recall_curve, average_precision_score, classification_report, roc_curve)\n",
    "\n",
    "from yellowbrick import ROCAUC\n",
    "\n",
    "# -------------------------\n",
    "# graph libs\n",
    "import matplotlib.pyplot as plt\n",
    "import seaborn as sns\n",
    "\n",
    "import pickle\n",
    "import joblib\n",
    "\n",
    "os.chdir(\"../src/\")\n",
    "from utils.data_describe import DataDescribe as dd\n",
    "from utils.classification_model_evaluation import ClassificationModelEvaluation as cme\n",
    "\n",
    "raw_path = \"../data/raw/\"\n",
    "external_path = \"../data/external/\"\n",
    "interim_path = \"../data/interim/\"\n",
    "path_processed = \"../data/processed/\"\n",
    "reports_path = \"../reports/\"\n",
    "\n",
    "path_model = \"../models/\"\n",
    "\n",
    "pd.set_option('display.max_columns', None)\n",
    "pd.set_option('display.max_rows', None)\n",
    "\n",
    "# load the autoreload extension\n",
    "%load_ext autoreload\n",
    "\n",
    "# Set extension to reload modules every time before executing code\n",
    "%autoreload 2"
   ]
  },
  {
   "cell_type": "markdown",
   "metadata": {},
   "source": [
    "## Carregando dataframes da preparação de dados"
   ]
  },
  {
   "cell_type": "code",
   "execution_count": 27,
   "metadata": {
    "ExecuteTime": {
     "end_time": "2021-01-17T04:10:57.883009Z",
     "start_time": "2021-01-17T04:10:57.376003Z"
    }
   },
   "outputs": [
    {
     "name": "stdout",
     "output_type": "stream",
     "text": [
      "O dataframe X_train possui:\n",
      "- 623 registros; e\n",
      "- 11 atributos, SEM a variável resposta (\"Survived\").\n",
      "\n",
      "O dataframe X_validation possui:\n",
      "- 268 registros; e\n",
      "- 11 atributos, SEM a variável resposta (\"Survived\").\n",
      "\n"
     ]
    }
   ],
   "source": [
    "X_train_encoded = pd.read_parquet(interim_path+'X_train_encoded_v1.pqt')\n",
    "X_validation_encoded = pd.read_parquet(interim_path+'X_validation_encoded_v1.pqt')\n",
    "\n",
    "y_train = pd.read_parquet(interim_path+'y_train.pqt')\n",
    "y_validation = pd.read_parquet(interim_path+'y_validation.pqt')\n",
    "\n",
    "print(f\"\"\"O dataframe X_train possui:\n",
    "- {X_train_encoded.shape[0]} registros; e\n",
    "- {X_train_encoded.shape[1]} atributos, SEM a variável resposta (\"Survived\").\n",
    "\"\"\")\n",
    "\n",
    "print(f\"\"\"O dataframe X_validation possui:\n",
    "- {X_validation_encoded.shape[0]} registros; e\n",
    "- {X_validation_encoded.shape[1]} atributos, SEM a variável resposta (\"Survived\").\n",
    "\"\"\")"
   ]
  },
  {
   "cell_type": "markdown",
   "metadata": {},
   "source": [
    "## Fazendo o split treinamento/validação no df_train"
   ]
  },
  {
   "cell_type": "code",
   "execution_count": 30,
   "metadata": {
    "ExecuteTime": {
     "end_time": "2021-01-17T04:13:46.373321Z",
     "start_time": "2021-01-17T04:13:46.267548Z"
    }
   },
   "outputs": [],
   "source": [
    "n_splits = 5\n",
    "n_repeats = 3\n",
    "random_state = 42\n",
    "scoring = \"accuracy\"\n",
    "\n",
    "cv = RepeatedStratifiedKFold(n_splits=n_splits, n_repeats=n_repeats, random_state=random_state)"
   ]
  },
  {
   "cell_type": "markdown",
   "metadata": {},
   "source": [
    "## Modelo baseline (\"Random Forest\")"
   ]
  },
  {
   "cell_type": "code",
   "execution_count": 32,
   "metadata": {
    "ExecuteTime": {
     "end_time": "2021-01-17T04:14:14.905924Z",
     "start_time": "2021-01-17T04:14:14.343765Z"
    }
   },
   "outputs": [
    {
     "name": "stdout",
     "output_type": "stream",
     "text": [
      "accuracy: média: 0.805  desvio padrão: 0.024\n"
     ]
    }
   ],
   "source": [
    "model_rf = RandomForestClassifier(random_state=42)\n",
    "\n",
    "n_scores = cross_val_score(model_rf, X_train_encoded, y_train, scoring=scoring, cv=cv, n_jobs=-1, error_score='raise')\n",
    "\n",
    "print(f\"{scoring}: média: {n_scores.mean():.3f}  desvio padrão: {n_scores.std():.3f}\")"
   ]
  },
  {
   "cell_type": "code",
   "execution_count": null,
   "metadata": {},
   "outputs": [],
   "source": []
  }
 ],
 "metadata": {
  "hide_input": false,
  "kernelspec": {
   "display_name": "Python 3",
   "language": "python",
   "name": "python3"
  },
  "language_info": {
   "codemirror_mode": {
    "name": "ipython",
    "version": 3
   },
   "file_extension": ".py",
   "mimetype": "text/x-python",
   "name": "python",
   "nbconvert_exporter": "python",
   "pygments_lexer": "ipython3",
   "version": "3.8.5"
  },
  "toc": {
   "base_numbering": 1,
   "nav_menu": {},
   "number_sections": true,
   "sideBar": true,
   "skip_h1_title": false,
   "title_cell": "Table of Contents",
   "title_sidebar": "Contents",
   "toc_cell": false,
   "toc_position": {},
   "toc_section_display": true,
   "toc_window_display": false
  }
 },
 "nbformat": 4,
 "nbformat_minor": 4
}
