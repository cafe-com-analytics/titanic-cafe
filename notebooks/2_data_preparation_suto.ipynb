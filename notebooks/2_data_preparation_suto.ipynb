{
 "cells": [
  {
   "cell_type": "code",
   "execution_count": 45,
   "metadata": {
    "ExecuteTime": {
     "end_time": "2021-01-23T12:00:37.991414Z",
     "start_time": "2021-01-23T12:00:37.905413Z"
    }
   },
   "outputs": [
    {
     "output_type": "stream",
     "name": "stdout",
     "text": [
      "The autoreload extension is already loaded. To reload it, use:\n  %reload_ext autoreload\n"
     ]
    }
   ],
   "source": [
    "import os\n",
    "\n",
    "import pandas as pd\n",
    "import numpy as np\n",
    "\n",
    "from sklearn.model_selection import (cross_val_score, RepeatedStratifiedKFold,\n",
    "                                     RandomizedSearchCV, GridSearchCV, train_test_split)\n",
    "\n",
    "from category_encoders import TargetEncoder\n",
    "from sklearn.preprocessing import StandardScaler, MinMaxScaler, RobustScaler\n",
    "from feature_engine import categorical_encoders as ce\n",
    "\n",
    "from sklearn.feature_selection import RFE\n",
    "\n",
    "import matplotlib.pyplot as plt\n",
    "import seaborn as sns\n",
    "\n",
    "os.chdir(\"../src/\")\n",
    "from utils.data_describe import DataDescribe as dd\n",
    "\n",
    "raw_path = \"../data/raw/\"\n",
    "external_path = \"../data/external/\"\n",
    "interim_path = \"../data/interim/\"\n",
    "path_processed = \"../data/processed/\"\n",
    "reports_path = \"../reports/\"\n",
    "\n",
    "path_model = \"../models/\"\n",
    "\n",
    "pd.set_option('display.max_columns', None)\n",
    "pd.set_option('display.max_rows', None)\n",
    "\n",
    "# load the autoreload extension\n",
    "%load_ext autoreload\n",
    "\n",
    "# Set extension to reload modules every time before executing code\n",
    "%autoreload 2"
   ]
  },
  {
   "cell_type": "markdown",
   "metadata": {},
   "source": [
    "## Carregando dataframes de raw\n",
    "\n",
    "Aqui pegaremos os insights de [1_business_data_understanding_suto](1_business_data_understanding_suto.ipynb) e faremos as transformações propostas."
   ]
  },
  {
   "cell_type": "code",
   "execution_count": 46,
   "metadata": {
    "ExecuteTime": {
     "end_time": "2021-01-23T12:00:38.720904Z",
     "start_time": "2021-01-23T12:00:38.627904Z"
    }
   },
   "outputs": [
    {
     "output_type": "stream",
     "name": "stdout",
     "text": [
      "O dataframe df_train possui:\n- 891 registros; e\n- 11 atributos, incluindo a variável resposta (\"Survived\").\n\nO dataframe df_test possui:\n- 418 registros; e\n- 10 atributos, SEM a variável resposta (\"Survived\").\n\n"
     ]
    }
   ],
   "source": [
    "df_train = pd.read_csv(raw_path+'train.csv', index_col=\"PassengerId\")\n",
    "df_test = pd.read_csv(raw_path+'test.csv', index_col=\"PassengerId\")\n",
    "\n",
    "print(f\"\"\"O dataframe df_train possui:\n",
    "- {df_train.shape[0]} registros; e\n",
    "- {df_train.shape[1]} atributos, incluindo a variável resposta (\"Survived\").\n",
    "\"\"\")\n",
    "\n",
    "print(f\"\"\"O dataframe df_test possui:\n",
    "- {df_test.shape[0]} registros; e\n",
    "- {df_test.shape[1]} atributos, SEM a variável resposta (\"Survived\").\n",
    "\"\"\")"
   ]
  },
  {
   "cell_type": "markdown",
   "metadata": {},
   "source": [
    "## Fazendo o split treinamento/validação no df_train"
   ]
  },
  {
   "cell_type": "code",
   "execution_count": 43,
   "metadata": {
    "ExecuteTime": {
     "end_time": "2021-01-23T12:00:40.587110Z",
     "start_time": "2021-01-23T12:00:40.497232Z"
    }
   },
   "outputs": [],
   "source": [
    "# Estou removendo temporariamente \"Name\", \"Cabin\", \"Ticket\". \n",
    "\n",
    "X = df_train.drop([\"Survived\", \"Name\", \"Cabin\", \"Ticket\"], axis=1)\n",
    "df_test.drop([\"Name\", \"Cabin\", \"Ticket\"], axis=1, inplace=True)\n",
    "y = df_train[\"Survived\"]\n",
    "\n",
    "X_train, X_validation, y_train, y_validation = train_test_split(X, y, test_size=0.3, random_state=random_state)"
   ]
  },
  {
   "cell_type": "markdown",
   "metadata": {},
   "source": [
    "## Tratando nulos:"
   ]
  },
  {
   "cell_type": "code",
   "execution_count": 48,
   "metadata": {
    "ExecuteTime": {
     "end_time": "2021-01-23T12:01:07.793360Z",
     "start_time": "2021-01-23T12:01:07.700363Z"
    }
   },
   "outputs": [
    {
     "output_type": "stream",
     "name": "stdout",
     "text": [
      "Pclass\nNuméricos:  Pclass\nSex\nNão numéricos:  Sex\nAge\nNuméricos:  Age\nSibSp\nNuméricos:  SibSp\nParch\nNuméricos:  Parch\nFare\nNuméricos:  Fare\nEmbarked\nNão numéricos:  Embarked\n"
     ]
    }
   ],
   "source": [
    "# TODO: REMOVER O CÓDIGO COMENTADO ABAIXO\n",
    "\n",
    "# df_train = pd.read_csv(raw_path+'train.csv', index_col=\"PassengerId\")\n",
    "# df_test = pd.read_csv(raw_path+'test.csv', index_col=\"PassengerId\")\n",
    "\n",
    "# X = df_train.drop([\"Survived\", \"Name\", \"Cabin\", \"Ticket\"], axis=1)\n",
    "# df_test = df_test.drop([\"Name\", \"Cabin\", \"Ticket\"], axis=1)\n",
    "# y = df_train[\"Survived\"]\n",
    "\n",
    "# X_train, X_validation, y_train, y_validation = train_test_split(X, y, test_size=0.3, random_state=random_state)\n",
    "\n",
    "for feature in X_train.columns:\n",
    "    print(feature)\n",
    "    if str(X_train[feature].dtype) in ['int','int32','int64', 'float', 'float32', 'float64']:\n",
    "        print(\"Numéricos: \", feature)\n",
    "        median = np.median(X_train[feature].dropna())\n",
    "        X_train[feature].fillna(median, inplace=True)\n",
    "        X_validation[feature].fillna(median, inplace=True)\n",
    "        df_test[feature].fillna(median, inplace=True)\n",
    "        \n",
    "    elif str(X_train[feature].dtype) in 'object':\n",
    "        print(\"Não numéricos: \", feature)\n",
    "        X_train[feature].fillna('não informado', inplace=True)\n",
    "        X_validation[feature].fillna('não informado', inplace=True)\n",
    "        df_test[feature].fillna('não informado', inplace=True)"
   ]
  },
  {
   "cell_type": "markdown",
   "metadata": {},
   "source": [
    "## OHE"
   ]
  },
  {
   "cell_type": "code",
   "execution_count": 49,
   "metadata": {
    "ExecuteTime": {
     "end_time": "2021-01-23T12:03:20.290356Z",
     "start_time": "2021-01-23T12:03:20.196050Z"
    }
   },
   "outputs": [
    {
     "output_type": "stream",
     "name": "stdout",
     "text": [
      "['Sex', 'Embarked']\n"
     ]
    }
   ],
   "source": [
    "lst_categoricas = list(X_train.select_dtypes(include='object').columns)\n",
    "print(lst_categoricas)"
   ]
  },
  {
   "cell_type": "code",
   "execution_count": 50,
   "metadata": {
    "ExecuteTime": {
     "end_time": "2021-01-23T12:03:23.902723Z",
     "start_time": "2021-01-23T12:03:23.794703Z"
    }
   },
   "outputs": [
    {
     "output_type": "execute_result",
     "data": {
      "text/plain": [
       "             Pclass   Age  SibSp  Parch     Fare  Sex_male  Sex_female  \\\n",
       "PassengerId                                                              \n",
       "446               1   4.0      0      2  81.8583         1           0   \n",
       "651               3  28.0      0      0   7.8958         1           0   \n",
       "173               3   1.0      1      1  11.1333         0           1   \n",
       "451               2  36.0      1      2  27.7500         1           0   \n",
       "315               2  43.0      1      1  26.2500         1           0   \n",
       "\n",
       "             Embarked_S  Embarked_C  Embarked_Q  Embarked_não informado  \n",
       "PassengerId                                                              \n",
       "446                   1           0           0                       0  \n",
       "651                   1           0           0                       0  \n",
       "173                   1           0           0                       0  \n",
       "451                   1           0           0                       0  \n",
       "315                   1           0           0                       0  "
      ],
      "text/html": "<div>\n<style scoped>\n    .dataframe tbody tr th:only-of-type {\n        vertical-align: middle;\n    }\n\n    .dataframe tbody tr th {\n        vertical-align: top;\n    }\n\n    .dataframe thead th {\n        text-align: right;\n    }\n</style>\n<table border=\"1\" class=\"dataframe\">\n  <thead>\n    <tr style=\"text-align: right;\">\n      <th></th>\n      <th>Pclass</th>\n      <th>Age</th>\n      <th>SibSp</th>\n      <th>Parch</th>\n      <th>Fare</th>\n      <th>Sex_male</th>\n      <th>Sex_female</th>\n      <th>Embarked_S</th>\n      <th>Embarked_C</th>\n      <th>Embarked_Q</th>\n      <th>Embarked_não informado</th>\n    </tr>\n    <tr>\n      <th>PassengerId</th>\n      <th></th>\n      <th></th>\n      <th></th>\n      <th></th>\n      <th></th>\n      <th></th>\n      <th></th>\n      <th></th>\n      <th></th>\n      <th></th>\n      <th></th>\n    </tr>\n  </thead>\n  <tbody>\n    <tr>\n      <th>446</th>\n      <td>1</td>\n      <td>4.0</td>\n      <td>0</td>\n      <td>2</td>\n      <td>81.8583</td>\n      <td>1</td>\n      <td>0</td>\n      <td>1</td>\n      <td>0</td>\n      <td>0</td>\n      <td>0</td>\n    </tr>\n    <tr>\n      <th>651</th>\n      <td>3</td>\n      <td>28.0</td>\n      <td>0</td>\n      <td>0</td>\n      <td>7.8958</td>\n      <td>1</td>\n      <td>0</td>\n      <td>1</td>\n      <td>0</td>\n      <td>0</td>\n      <td>0</td>\n    </tr>\n    <tr>\n      <th>173</th>\n      <td>3</td>\n      <td>1.0</td>\n      <td>1</td>\n      <td>1</td>\n      <td>11.1333</td>\n      <td>0</td>\n      <td>1</td>\n      <td>1</td>\n      <td>0</td>\n      <td>0</td>\n      <td>0</td>\n    </tr>\n    <tr>\n      <th>451</th>\n      <td>2</td>\n      <td>36.0</td>\n      <td>1</td>\n      <td>2</td>\n      <td>27.7500</td>\n      <td>1</td>\n      <td>0</td>\n      <td>1</td>\n      <td>0</td>\n      <td>0</td>\n      <td>0</td>\n    </tr>\n    <tr>\n      <th>315</th>\n      <td>2</td>\n      <td>43.0</td>\n      <td>1</td>\n      <td>1</td>\n      <td>26.2500</td>\n      <td>1</td>\n      <td>0</td>\n      <td>1</td>\n      <td>0</td>\n      <td>0</td>\n      <td>0</td>\n    </tr>\n  </tbody>\n</table>\n</div>"
     },
     "metadata": {},
     "execution_count": 50
    }
   ],
   "source": [
    "ohe_hot_encoder = ce.OneHotCategoricalEncoder(top_categories=5,\n",
    "                                              variables=lst_categoricas,\n",
    "                                              drop_last=True)\n",
    "\n",
    "ohe_hot_encoder.fit(X_train)\n",
    "\n",
    "X_train_encoded = ohe_hot_encoder.transform(X_train)\n",
    "\n",
    "X_validation_encoded = ohe_hot_encoder.transform(X_validation)\n",
    "\n",
    "df_test_encoded = ohe_hot_encoder.transform(df_test)\n",
    "\n",
    "X_train_encoded.head()"
   ]
  },
  {
   "cell_type": "markdown",
   "metadata": {},
   "source": [
    "## Exportação das bases para próxima etapa"
   ]
  },
  {
   "cell_type": "code",
   "execution_count": 53,
   "metadata": {
    "ExecuteTime": {
     "end_time": "2021-01-17T04:10:42.209626Z",
     "start_time": "2021-01-17T04:10:42.083622Z"
    }
   },
   "outputs": [],
   "source": [
    "X_train_encoded.to_parquet(interim_path+'X_train_encoded_v1.pqt')\n",
    "X_validation_encoded.to_parquet(interim_path+'X_validation_encoded_v1.pqt')\n",
    "\n",
    "y_train = pd.DataFrame(y_train)\n",
    "y_validation = pd.DataFrame(y_validation)\n",
    "\n",
    "y_train.to_parquet(interim_path+'y_train.pqt')\n",
    "y_validation.to_parquet(interim_path+'y_validation.pqt')\n",
    "\n",
    "df_test_encoded.to_parquet(interim_path+'df_test_encoded.pqt')"
   ]
  }
 ],
 "metadata": {
  "hide_input": false,
  "kernelspec": {
   "display_name": "Python 3",
   "language": "python",
   "name": "python3"
  },
  "language_info": {
   "codemirror_mode": {
    "name": "ipython",
    "version": 3
   },
   "file_extension": ".py",
   "mimetype": "text/x-python",
   "name": "python",
   "nbconvert_exporter": "python",
   "pygments_lexer": "ipython3",
   "version": "3.8.5-final"
  },
  "toc": {
   "base_numbering": 1,
   "nav_menu": {},
   "number_sections": true,
   "sideBar": true,
   "skip_h1_title": false,
   "title_cell": "Table of Contents",
   "title_sidebar": "Contents",
   "toc_cell": false,
   "toc_position": {},
   "toc_section_display": true,
   "toc_window_display": false
  }
 },
 "nbformat": 4,
 "nbformat_minor": 4
}